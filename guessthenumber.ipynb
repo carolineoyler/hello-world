{
  "nbformat": 4,
  "nbformat_minor": 0,
  "metadata": {
    "colab": {
      "name": "guessthenumber.ipynb",
      "provenance": [],
      "include_colab_link": true
    },
    "kernelspec": {
      "name": "python3",
      "display_name": "Python 3"
    }
  },
  "cells": [
    {
      "cell_type": "markdown",
      "metadata": {
        "id": "view-in-github",
        "colab_type": "text"
      },
      "source": [
        "<a href=\"https://colab.research.google.com/github/carolineoyler/hello-world/blob/master/guessthenumber.ipynb\" target=\"_parent\"><img src=\"https://colab.research.google.com/assets/colab-badge.svg\" alt=\"Open In Colab\"/></a>"
      ]
    },
    {
      "cell_type": "code",
      "metadata": {
        "id": "ShITesPiJ_Wn",
        "colab_type": "code",
        "outputId": "00820a1a-55c0-4fec-fc14-cf626dd3cbbd",
        "colab": {
          "base_uri": "https://localhost:8080/",
          "height": 102
        }
      },
      "source": [
        "#guess the number\n",
        "\n",
        "import random \n",
        "\n",
        "guessesTaken = 0\n",
        "\n",
        "number=random.randint(1,20)\n",
        "print('i am thinking of a number between 1 and 20, please guess the number')\n",
        "\n",
        "while guessesTaken<6:\n",
        "  guess= input()\n",
        "  guess = int(guess)\n",
        "\n",
        "  guessesTaken = guessesTaken +1\n",
        "  \n",
        "  if guess<number:\n",
        "    print('your guess is too low')\n",
        "  \n",
        "  if guess>number: \n",
        "    print('your guess is too high')\n",
        "  \n",
        "  if guess==number:\n",
        "    break \n",
        "    \n",
        "if guess==number:\n",
        "  guessesTaken=str(guessesTaken)\n",
        "  print('good job, you win!')\n",
        "  \n",
        "if guess!=number:\n",
        "  number=str(number)\n",
        "  print('nope, good try!')\n"
      ],
      "execution_count": 0,
      "outputs": [
        {
          "output_type": "stream",
          "text": [
            "i am thinking of a number between 1 and 20, please guess the number\n",
            "13\n",
            "your guess is too high\n",
            "10\n",
            "good job, you win!\n"
          ],
          "name": "stdout"
        }
      ]
    }
  ]
}